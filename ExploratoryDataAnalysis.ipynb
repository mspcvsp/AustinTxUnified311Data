{
 "cells": [
  {
   "cell_type": "markdown",
   "metadata": {},
   "source": [
    "## Initialize Dependencies"
   ]
  },
  {
   "cell_type": "code",
   "execution_count": 50,
   "metadata": {},
   "outputs": [],
   "source": [
    "import os\n",
    "from utilities import init_db_handle\n",
    "from couchbase.n1ql import N1QLQuery\n",
    "import itertools\n",
    "import pandas as pd\n",
    "import numpy as np\n",
    "from datetime import datetime\n",
    "import matplotlib.pyplot as plt\n",
    "import seaborn as sns\n",
    "%matplotlib inline"
   ]
  },
  {
   "cell_type": "markdown",
   "metadata": {},
   "source": [
    "## Initialize Database Handle"
   ]
  },
  {
   "cell_type": "code",
   "execution_count": 5,
   "metadata": {},
   "outputs": [],
   "source": [
    "data_folder = './Data'\n",
    "cb = init_db_handle(data_folder)"
   ]
  },
  {
   "cell_type": "markdown",
   "metadata": {},
   "source": [
    "-[Return list of document identifier](https://forums.couchbase.com/t/how-n1ql-get-doc-id/4161/2)  \n",
    "-[Import N1QL query speed](https://dzone.com/articles/count-amp-group-faster-using-n1ql)  \n",
    "-[Fill a list from a generator](https://stackoverflow.com/questions/9811222/fill-a-list-from-a-generator)"
   ]
  },
  {
   "cell_type": "markdown",
   "metadata": {},
   "source": [
    "## Query a database record"
   ]
  },
  {
   "cell_type": "code",
   "execution_count": 6,
   "metadata": {},
   "outputs": [
    {
     "data": {
      "text/plain": [
       "{'city': 'AUSTIN',\n",
       " 'closeday': 4,\n",
       " 'closehour': 12,\n",
       " 'closemonth': 1,\n",
       " 'closeyear': 2014,\n",
       " 'councildistrict': 10,\n",
       " 'county': 'TRAVIS',\n",
       " 'createdday': 1,\n",
       " 'createdhour': 1,\n",
       " 'createdmonth': 1,\n",
       " 'createdyear': 2014,\n",
       " 'lastupdateday': 4,\n",
       " 'lastupdatehour': 11,\n",
       " 'lastupdatemonth': 1,\n",
       " 'lastupdateyear': 2014,\n",
       " 'latitudecoordinate': 30.3484472,\n",
       " 'latitudelongitude': {'loc': [30.3484472, -97.77776831],\n",
       "  'title': '14-00000197'},\n",
       " 'longitudecoordinate': -97.77776831,\n",
       " 'mappage': '524P',\n",
       " 'maptile': 'MG29',\n",
       " 'methodreceived': 'Phone',\n",
       " 'owningdepartment': 'Animal Services Office',\n",
       " 'srdescription': 'Dangerous/Vicious Dog Investigation',\n",
       " 'srlocation': '4507 KNAP HOLW, AUSTIN, TX',\n",
       " 'srstatus': 'Closed',\n",
       " 'srtypecode': 'COAACDD',\n",
       " 'stateplanexcoordinate': 3102607.36012251,\n",
       " 'stateplaneycoordinate': 10099724.3223682,\n",
       " 'statuschangeday': 4,\n",
       " 'statuschangehour': 12,\n",
       " 'statuschangemonth': 1,\n",
       " 'statuschangeyear': 2014,\n",
       " 'streetname': 'KNAP',\n",
       " 'streetnumber': 4507,\n",
       " 'zipcode': 78731}"
      ]
     },
     "execution_count": 6,
     "metadata": {},
     "output_type": "execute_result"
    }
   ],
   "source": [
    "row_iter = cb.n1ql_query(N1QLQuery('SELECT meta(AustinTx311Data).id FROM AustinTx311Data LIMIT 1'))\n",
    "recordid = [elem['id'] for elem in itertools.islice(row_iter,None)]\n",
    "rec = cb.get(recordid[0])\n",
    "rec.value"
   ]
  },
  {
   "cell_type": "markdown",
   "metadata": {},
   "source": [
    "## Initialize a Secondary Index"
   ]
  },
  {
   "cell_type": "code",
   "execution_count": 27,
   "metadata": {},
   "outputs": [
    {
     "data": {
      "text/plain": [
       "<couchbase.n1ql.N1QLRequest at 0x7f787a4af5c0>"
      ]
     },
     "execution_count": 27,
     "metadata": {},
     "output_type": "execute_result"
    }
   ],
   "source": [
    "cb.n1ql_query(N1QLQuery('CREATE INDEX idxsrtypecode ON `AustinTx311Data` (srtypecode)'))\n",
    "cb.n1ql_query(N1QLQuery('CREATE INDEX idxcreatedyear ON `AustinTx311Data` (createdyear)'))\n",
    "cb.n1ql_query(N1QLQuery('CREATE INDEX idxcreatedmonth ON `AustinTx311Data` (createdmonth)'))"
   ]
  },
  {
   "cell_type": "markdown",
   "metadata": {},
   "source": [
    "## Compute a histogram of 311 calls for 2014\n",
    "-[Sort DataFrame month colunn](https://stackoverflow.com/questions/46755841/pandas-dataframe-month-int-to-month-name-in-order)  "
   ]
  },
  {
   "cell_type": "code",
   "execution_count": 48,
   "metadata": {},
   "outputs": [],
   "source": [
    "year = 2014\n",
    "\n",
    "request = cb.n1ql_query(N1QLQuery('SELECT createdmonth, count(*) from `AustinTx311Data`' +\\\n",
    "                                  'WHERE createdyear=' + str(year) + ' GROUP BY createdmonth'));\n",
    "\n",
    "histogram = [{'createdmonth': elem['createdmonth'], 'count': elem['$1']}\n",
    "             for elem in itertools.islice(request, None)]\n",
    "\n",
    "createdmonth = [elem['createdmonth'] for elem in histogram]\n",
    "\n",
    "histogram = np.array(histogram)\n",
    "histogram = histogram[np.argsort(createdmonth)]\n",
    "\n",
    "for idx in range(0, len(histogram)):\n",
    "    datetimeobj = datetime(year, histogram[idx]['createdmonth'], 1)\n",
    "    histogram[idx]['createdmonth'] = datetimeobj.strftime('%b')\n",
    "\n",
    "df = pd.DataFrame.from_dict(list(histogram))"
   ]
  },
  {
   "cell_type": "markdown",
   "metadata": {},
   "source": [
    "### Plot 2014 311 calls / month histogram\n",
    "-[Pandas Dataframe barplot](https://stackoverflow.com/questions/35168016/unable-to-plot-dataframe-using-seaborn-barplot)  \n",
    "-[Style Seaborn plot](https://seaborn.pydata.org/tutorial/aesthetics.html)  \n",
    "-[Set Seaborn font size](https://stackoverflow.com/questions/25328003/how-can-i-change-the-font-size-using-seaborn-facetgrid)"
   ]
  },
  {
   "cell_type": "code",
   "execution_count": 78,
   "metadata": {},
   "outputs": [
    {
     "data": {
      "text/plain": [
       "Text(0.5,1,'2014 Austin Tx 311 Calls / Month')"
      ]
     },
     "execution_count": 78,
     "metadata": {},
     "output_type": "execute_result"
    },
    {
     "data": {
      "image/png": "[encoded data removed]",
      "text/plain": [
       "<matplotlib.figure.Figure at 0x7f786e1cc7b8>"
      ]
     },
     "metadata": {},
     "output_type": "display_data"
    }
   ],
   "source": [
    "plt.figure(figsize=(12,4))\n",
    "sns.set(font_scale=2)\n",
    "sns.set_palette(sns.hls_palette(12, l=.3, s=.8))\n",
    "sns.barplot(x='createdmonth', y='count', data=df)\n",
    "plt.title('2014 Austin Tx 311 Calls / Month')"
   ]
  },
  {
   "cell_type": "code",
   "execution_count": 12,
   "metadata": {},
   "outputs": [],
   "source": [
    "request = cb.n1ql_query(N1QLQuery('SELECT srtypecode, count(*) FROM `AustinTx311Data` ' +\\\n",
    "                                  'WHERE createdyear=2014 GROUP BY srtypecode;'))\n",
    "\n",
    "srtypecode_histogram = [{'srtypecode': elem['srtypecode'], 'count': elem['$1'], 'srdescription':None}\n",
    "                        for elem in itertools.islice(request, None)]"
   ]
  },
  {
   "cell_type": "code",
   "execution_count": 9,
   "metadata": {},
   "outputs": [
    {
     "data": {
      "text/html": [
       "<div>\n",
       "<style scoped>\n",
       "    .dataframe tbody tr th:only-of-type {\n",
       "        vertical-align: middle;\n",
       "    }\n",
       "\n",
       "    .dataframe tbody tr th {\n",
       "        vertical-align: top;\n",
       "    }\n",
       "\n",
       "    .dataframe thead th {\n",
       "        text-align: right;\n",
       "    }\n",
       "</style>\n",
       "<table border=\"1\" class=\"dataframe\">\n",
       "  <thead>\n",
       "    <tr style=\"text-align: right;\">\n",
       "      <th></th>\n",
       "      <th>count</th>\n",
       "      <th>srtypecode</th>\n",
       "    </tr>\n",
       "  </thead>\n",
       "  <tbody>\n",
       "    <tr>\n",
       "      <th>0</th>\n",
       "      <td>19646</td>\n",
       "      <td>CODECOMP</td>\n",
       "    </tr>\n",
       "    <tr>\n",
       "      <th>1</th>\n",
       "      <td>9740</td>\n",
       "      <td>ACLONAG</td>\n",
       "    </tr>\n",
       "    <tr>\n",
       "      <th>2</th>\n",
       "      <td>8996</td>\n",
       "      <td>TRASIGMA</td>\n",
       "    </tr>\n",
       "    <tr>\n",
       "      <th>3</th>\n",
       "      <td>6677</td>\n",
       "      <td>LOUDMUS1</td>\n",
       "    </tr>\n",
       "    <tr>\n",
       "      <th>4</th>\n",
       "      <td>6308</td>\n",
       "      <td>ACINFORM</td>\n",
       "    </tr>\n",
       "  </tbody>\n",
       "</table>\n",
       "</div>"
      ],
      "text/plain": [
       "   count srtypecode\n",
       "0  19646   CODECOMP\n",
       "1   9740    ACLONAG\n",
       "2   8996   TRASIGMA\n",
       "3   6677   LOUDMUS1\n",
       "4   6308   ACINFORM"
      ]
     },
     "execution_count": 9,
     "metadata": {},
     "output_type": "execute_result"
    }
   ],
   "source": [
    "df = pd.DataFrame.from_dict(srtypecode_histogram)\n",
    "df = df.sort_values(by=['count'], ascending=False)\n",
    "df = df.reset_index(drop=True)\n",
    "df.head(5)"
   ]
  },
  {
   "cell_type": "code",
   "execution_count": 11,
   "metadata": {},
   "outputs": [
    {
     "name": "stdout",
     "output_type": "stream",
     "text": [
      "{'srdescription': 'Loose Dog'}\n"
     ]
    }
   ],
   "source": [
    "q = N1QLQuery(\"SELECT srdescription from `AustinTx311Data` WHERE srtypecode='ACLONAG' LIMIT 1\",0)\n",
    "for row in cb.n1ql_query(q):\n",
    "    print(row)"
   ]
  },
  {
   "cell_type": "code",
   "execution_count": null,
   "metadata": {},
   "outputs": [],
   "source": []
  }
 ],
 "metadata": {
  "kernelspec": {
   "display_name": "Python 3",
   "language": "python",
   "name": "python3"
  },
  "language_info": {
   "codemirror_mode": {
    "name": "ipython",
    "version": 3
   },
   "file_extension": ".py",
   "mimetype": "text/x-python",
   "name": "python",
   "nbconvert_exporter": "python",
   "pygments_lexer": "ipython3",
   "version": "3.6.3"
  }
 },
 "nbformat": 4,
 "nbformat_minor": 2
}
