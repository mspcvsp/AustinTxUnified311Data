{
 "cells": [
  {
   "cell_type": "markdown",
   "metadata": {},
   "source": [
    "## Initialize Dependencies"
   ]
  },
  {
   "cell_type": "code",
   "execution_count": 1,
   "metadata": {},
   "outputs": [],
   "source": [
    "from csv import DictReader\n",
    "import os\n",
    "import urllib\n",
    "from csv import DictReader\n",
    "from urllib.parse import urljoin\n",
    "from utilities import init_db_handle, init_keys, format_record, is_empty_record\n",
    "from datetime import datetime"
   ]
  },
  {
   "cell_type": "markdown",
   "metadata": {},
   "source": [
    "## Download Austin Tx 311 Data\n",
    "-[Austin Tx 311 Data Description](https://data.austintexas.gov/Utilities-and-City-Services/311-Unified-Data/i26j-ai4z)  \n",
    "-[Download *.csv file from website](https://stackoverflow.com/questions/41992223/download-csv-from-web-service-with-python-3)  \n",
    "-[Check for file existence](https://stackoverflow.com/questions/23459095/check-for-file-existence-in-python-3)"
   ]
  },
  {
   "cell_type": "code",
   "execution_count": 2,
   "metadata": {},
   "outputs": [],
   "source": [
    "csv_url = urljoin('https://data.austintexas.gov/api',\n",
    "                  'views/i26j-ai4z/rows.csv?accessType=DOWNLOAD')\n",
    "\n",
    "csv_file = './Data/austinTx311Data.csv'\n",
    "    \n",
    "if not os.path.isfile(csv_file):\n",
    "    data_dir = os.path.split(csv_file)[0]\n",
    "\n",
    "    if not os.path.exists(data_dir):\n",
    "        os.mkdir(data_dir)\n",
    "\n",
    "    urllib.request.urlretrieve(csv_url, csv_file)"
   ]
  },
  {
   "cell_type": "markdown",
   "metadata": {},
   "source": [
    "## Initialize Couchbase interface\n",
    "-[Couchbase Python SDK example](https://developer.couchbase.com/documentation/server/current/sdk/python/start-using-sdk.html)"
   ]
  },
  {
   "cell_type": "code",
   "execution_count": 3,
   "metadata": {},
   "outputs": [],
   "source": [
    "cb = init_db_handle(os.path.split(csv_file)[0])"
   ]
  },
  {
   "cell_type": "code",
   "execution_count": null,
   "metadata": {},
   "outputs": [],
   "source": [
    "with open(csv_file, 'rt') as h_csv:\n",
    "    keys = init_keys(h_csv)\n",
    "\n",
    "    readerobj = DictReader(h_csv, keys)\n",
    "\n",
    "    for record in readerobj:\n",
    "        if not is_empty_record(record):\n",
    "            record = format_record(record)\n",
    "            cb.upsert(record[0], record[1])"
   ]
  },
  {
   "cell_type": "markdown",
   "metadata": {},
   "source": [
    "## Create Primary Index\n",
    "-[Couchbase Python SDK Hello World](https://developer.couchbase.com/documentation/server/current/sdk/python/start-using-sdk.html)"
   ]
  },
  {
   "cell_type": "code",
   "execution_count": null,
   "metadata": {},
   "outputs": [],
   "source": [
    "cb.n1ql_query('CREATE PRIMARY INDEX ON AustinTx311Data').execute()"
   ]
  }
 ],
 "metadata": {
  "kernelspec": {
   "display_name": "Python 3",
   "language": "python",
   "name": "python3"
  },
  "language_info": {
   "codemirror_mode": {
    "name": "ipython",
    "version": 3
   },
   "file_extension": ".py",
   "mimetype": "text/x-python",
   "name": "python",
   "nbconvert_exporter": "python",
   "pygments_lexer": "ipython3",
   "version": "3.6.3"
  }
 },
 "nbformat": 4,
 "nbformat_minor": 2
}
